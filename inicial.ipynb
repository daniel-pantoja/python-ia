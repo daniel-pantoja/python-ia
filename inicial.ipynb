{
 "cells": [
  {
   "cell_type": "markdown",
   "metadata": {},
   "source": [
    "# Projeto Python IA: Inteligência Artificial e Previsões\n",
    "\n",
    "### Case: Score de Crédito dos Clientes\n",
    "\n",
    "Você foi contratado por um banco para conseguir definir o score de crédito dos clientes. Você precisa analisar todos os clientes do banco e, com base nessa análise, criar um modelo que consiga ler as informações do cliente e dizer automaticamente o score de crédito dele: Ruim, Ok, Bom\n",
    "\n",
    "Arquivos da aula: https://drive.google.com/drive/folders/1FbDqVq4XLvU85VBlVIMJ73p9oOu6u2-J?usp=drive_link"
   ]
  },
  {
   "cell_type": "code",
   "execution_count": null,
   "metadata": {},
   "outputs": [],
   "source": [
    "# Score de crédito do cliente - se ela é: boa-Good, ok-Standard ou ruim-Poor\n",
    "\n",
    "# Passo a passo \n",
    "# Passo 0: Entender o desafio empresa\n",
    "# Passo 1: Importar a base de dados\n",
    "# !pip install pandas scikit-learn\n",
    "import pandas as pd\n",
    "\n",
    "tabela = pd.read_csv(\"clientes.csv\")\n",
    "\n",
    "display(tabela)"
   ]
  },
  {
   "cell_type": "code",
   "execution_count": null,
   "metadata": {},
   "outputs": [],
   "source": [
    "# Passo 2: Preparar a base de dados para inteligência artificial (IA)\n",
    "\n",
    "# Importar: LabelEncoder - transforma valores categóricos em números inteiros\n",
    "from sklearn.preprocessing import LabelEncoder\n",
    "\n",
    "codificador1 = LabelEncoder() # Para trocar valor da profissao\n",
    "tabela[\"profissao\"] = codificador1.fit_transform(tabela[\"profissao\"])\n",
    "\n",
    "codificador2 = LabelEncoder() # Para trocar valor do mix_credito\n",
    "tabela[\"mix_credito\"] = codificador2.fit_transform(tabela[\"mix_credito\"])\n",
    "\n",
    "codificador3 = LabelEncoder() # Para trocar valor do comportamento_pagamento\n",
    "tabela[\"comportamento_pagamento\"] = codificador3.fit_transform(tabela[\"comportamento_pagamento\"])\n",
    "\n",
    "display(tabela.info())"
   ]
  },
  {
   "cell_type": "code",
   "execution_count": 31,
   "metadata": {},
   "outputs": [],
   "source": [
    "# 2.2: Separar as informações da base de dados para a inteligência artificial\n",
    "\n",
    "# Separar em X e Y \n",
    "# Y --> Quem eu quero prever (coluna score_credito)\n",
    "# x --> As outras colunas (todas as colunas que eu vou usar para fazer a previsão menos score_credito)\n",
    "y = tabela[\"score_credito\"]\n",
    "x = tabela.drop(columns=[\"score_credito\", \"id_cliente\"])\n",
    "\n",
    "# Separando em dados de treino e de teste\n",
    "from sklearn.model_selection import train_test_split\n",
    "\n",
    "x_treino, x_teste, y_treino, y_teste = train_test_split(x, y, test_size=0.3) "
   ]
  },
  {
   "cell_type": "code",
   "execution_count": null,
   "metadata": {},
   "outputs": [],
   "source": [
    "# Passo 3: Criar o modelo de IA --> Prever a nota de crédito\n",
    "\n",
    "# Árvore de Decisão --> RandomForest\n",
    "# Vizinhoa Próximos --> KNN\n",
    "\n",
    "# 1° Importar o modelo\n",
    "from sklearn.ensemble import RandomForestClassifier\n",
    "from sklearn.neighbors import KNeighborsClassifier\n",
    "\n",
    "# 2° Criar o modelo\n",
    "modelo_arvoredecisao = RandomForestClassifier()\n",
    "modelo_knn = KNeighborsClassifier()\n",
    "\n",
    "# 3° Treinar o modelo\n",
    "modelo_arvoredecisao.fit(x_treino, y_treino)\n",
    "modelo_knn.fit(x_treino, y_treino)"
   ]
  },
  {
   "cell_type": "code",
   "execution_count": null,
   "metadata": {},
   "outputs": [],
   "source": [
    "# Passo 4: Escolher o melhor modelo\n",
    "\n",
    "# previsoes\n",
    "previsao_arvoredecisao = modelo_arvoredecisao.predict(x_teste)\n",
    "previsao_knn = modelo_knn.predict(x_teste)\n",
    "\n",
    "# acuracia \n",
    "from sklearn.metrics import accuracy_score\n",
    "\n",
    "display(accuracy_score(y_teste, previsao_arvoredecisao))\n",
    "display(accuracy_score(y_teste, previsao_knn))"
   ]
  },
  {
   "cell_type": "code",
   "execution_count": null,
   "metadata": {},
   "outputs": [],
   "source": [
    "# Passo 5: Fazer novas previsões\n",
    "# o melhor modelo é o de arvore de decisao\n",
    "\n",
    "# modelo_arvoredecisao\n",
    "tabela_nova = pd.read_csv(\"novos_clientes.csv\")\n",
    "display(tabela_nova)\n",
    "\n",
    "# profissao\n",
    "tabela_nova[\"profissao\"] = codificador1.fit_transform(tabela_nova[\"profissao\"])\n",
    "\n",
    "# mix_credito\n",
    "tabela_nova[\"mix_credito\"] = codificador2.fit_transform(tabela_nova[\"mix_credito\"])\n",
    "\n",
    "# comportamento_pagamento\n",
    "tabela_nova[\"comportamento_pagamento\"] = codificador3.fit_transform(tabela_nova[\"comportamento_pagamento\"])\n",
    "\n",
    "previsao = modelo_arvoredecisao.predict(tabela_nova)\n",
    "\n",
    "tabela_nova[\"score_credito\"] = previsao\n",
    "display(previsao)\n"
   ]
  }
 ],
 "metadata": {
  "kernelspec": {
   "display_name": "Python 3",
   "language": "python",
   "name": "python3"
  },
  "language_info": {
   "codemirror_mode": {
    "name": "ipython",
    "version": 3
   },
   "file_extension": ".py",
   "mimetype": "text/x-python",
   "name": "python",
   "nbconvert_exporter": "python",
   "pygments_lexer": "ipython3",
   "version": "3.13.2"
  },
  "orig_nbformat": 4
 },
 "nbformat": 4,
 "nbformat_minor": 2
}
